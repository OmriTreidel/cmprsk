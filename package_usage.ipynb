{
 "cells": [
  {
   "cell_type": "markdown",
   "id": "b484718d",
   "metadata": {},
   "source": [
    "# Example usage\n",
    "\n",
    "This notebook is a simple demonstration of how to use the package. We generate random data and apply the two function implemented `crr` and `cuminc`.\n",
    "\n",
    "# Calling `crr` (fitting the model) and display the summary\n",
    "\n",
    "## Data generation\n",
    "\n",
    "This is the same process as described in the original package manual https://cran.r-project.org/web/packages/cmprsk/cmprsk.pdf\n",
    "\n"
   ]
  },
  {
   "cell_type": "code",
   "execution_count": 68,
   "id": "d85160c6",
   "metadata": {},
   "outputs": [
    {
     "data": {
      "text/html": [
       "<div>\n",
       "<style scoped>\n",
       "    .dataframe tbody tr th:only-of-type {\n",
       "        vertical-align: middle;\n",
       "    }\n",
       "\n",
       "    .dataframe tbody tr th {\n",
       "        vertical-align: top;\n",
       "    }\n",
       "\n",
       "    .dataframe thead th {\n",
       "        text-align: right;\n",
       "    }\n",
       "</style>\n",
       "<table border=\"1\" class=\"dataframe\">\n",
       "  <thead>\n",
       "    <tr style=\"text-align: right;\">\n",
       "      <th></th>\n",
       "      <th>ftime</th>\n",
       "      <th>fstatus</th>\n",
       "      <th>x1</th>\n",
       "      <th>x2</th>\n",
       "      <th>x3</th>\n",
       "      <th>x4</th>\n",
       "    </tr>\n",
       "  </thead>\n",
       "  <tbody>\n",
       "    <tr>\n",
       "      <th>0</th>\n",
       "      <td>0.469268</td>\n",
       "      <td>2</td>\n",
       "      <td>c</td>\n",
       "      <td>0.642785</td>\n",
       "      <td>-1.067620</td>\n",
       "      <td>2</td>\n",
       "    </tr>\n",
       "    <tr>\n",
       "      <th>1</th>\n",
       "      <td>3.010121</td>\n",
       "      <td>0</td>\n",
       "      <td>a</td>\n",
       "      <td>0.102957</td>\n",
       "      <td>-0.142379</td>\n",
       "      <td>2</td>\n",
       "    </tr>\n",
       "    <tr>\n",
       "      <th>2</th>\n",
       "      <td>1.316746</td>\n",
       "      <td>1</td>\n",
       "      <td>b</td>\n",
       "      <td>0.676518</td>\n",
       "      <td>0.120296</td>\n",
       "      <td>4</td>\n",
       "    </tr>\n",
       "    <tr>\n",
       "      <th>3</th>\n",
       "      <td>0.912943</td>\n",
       "      <td>1</td>\n",
       "      <td>a</td>\n",
       "      <td>0.641450</td>\n",
       "      <td>0.514439</td>\n",
       "      <td>3</td>\n",
       "    </tr>\n",
       "    <tr>\n",
       "      <th>4</th>\n",
       "      <td>0.169625</td>\n",
       "      <td>2</td>\n",
       "      <td>d</td>\n",
       "      <td>0.190195</td>\n",
       "      <td>0.711615</td>\n",
       "      <td>2</td>\n",
       "    </tr>\n",
       "    <tr>\n",
       "      <th>...</th>\n",
       "      <td>...</td>\n",
       "      <td>...</td>\n",
       "      <td>...</td>\n",
       "      <td>...</td>\n",
       "      <td>...</td>\n",
       "      <td>...</td>\n",
       "    </tr>\n",
       "    <tr>\n",
       "      <th>195</th>\n",
       "      <td>0.429568</td>\n",
       "      <td>0</td>\n",
       "      <td>d</td>\n",
       "      <td>0.810652</td>\n",
       "      <td>-0.922165</td>\n",
       "      <td>0</td>\n",
       "    </tr>\n",
       "    <tr>\n",
       "      <th>196</th>\n",
       "      <td>1.294465</td>\n",
       "      <td>1</td>\n",
       "      <td>c</td>\n",
       "      <td>1.465283</td>\n",
       "      <td>0.869606</td>\n",
       "      <td>1</td>\n",
       "    </tr>\n",
       "    <tr>\n",
       "      <th>197</th>\n",
       "      <td>2.274097</td>\n",
       "      <td>1</td>\n",
       "      <td>c</td>\n",
       "      <td>2.896172</td>\n",
       "      <td>1.355638</td>\n",
       "      <td>3</td>\n",
       "    </tr>\n",
       "    <tr>\n",
       "      <th>198</th>\n",
       "      <td>2.181133</td>\n",
       "      <td>1</td>\n",
       "      <td>c</td>\n",
       "      <td>1.894772</td>\n",
       "      <td>0.413435</td>\n",
       "      <td>4</td>\n",
       "    </tr>\n",
       "    <tr>\n",
       "      <th>199</th>\n",
       "      <td>1.513562</td>\n",
       "      <td>0</td>\n",
       "      <td>d</td>\n",
       "      <td>0.284152</td>\n",
       "      <td>1.876796</td>\n",
       "      <td>1</td>\n",
       "    </tr>\n",
       "  </tbody>\n",
       "</table>\n",
       "<p>200 rows × 6 columns</p>\n",
       "</div>"
      ],
      "text/plain": [
       "        ftime  fstatus x1        x2        x3  x4\n",
       "0    0.469268        2  c  0.642785 -1.067620   2\n",
       "1    3.010121        0  a  0.102957 -0.142379   2\n",
       "2    1.316746        1  b  0.676518  0.120296   4\n",
       "3    0.912943        1  a  0.641450  0.514439   3\n",
       "4    0.169625        2  d  0.190195  0.711615   2\n",
       "..        ...      ... ..       ...       ...  ..\n",
       "195  0.429568        0  d  0.810652 -0.922165   0\n",
       "196  1.294465        1  c  1.465283  0.869606   1\n",
       "197  2.274097        1  c  2.896172  1.355638   3\n",
       "198  2.181133        1  c  1.894772  0.413435   4\n",
       "199  1.513562        0  d  0.284152  1.876796   1\n",
       "\n",
       "[200 rows x 6 columns]"
      ]
     },
     "execution_count": 68,
     "metadata": {},
     "output_type": "execute_result"
    }
   ],
   "source": [
    "import numpy as np\n",
    "import pandas as pd\n",
    "import pytest\n",
    "import random\n",
    "import string\n",
    "\n",
    "\n",
    "def get_data():\n",
    "    np.random.seed(42)\n",
    "    random.seed(34)\n",
    "    ftime = np.random.exponential(size=200)\n",
    "    fstatus = pd.Series(np.random.randint(0, 3, 200))\n",
    "    x2 = np.random.exponential(size=200)\n",
    "    x3 = np.random.randn(200)\n",
    "    x1 = [random.choice(string.ascii_lowercase[:4]) for _ in range(200)]\n",
    "    x4 = np.random.randint(0, 5, 200).astype(int)\n",
    "    return pd.DataFrame(dict(ftime=ftime, fstatus=fstatus, x1=x1, x2=x2, x3=x3, x4=x4))\n",
    "\n",
    "test_data = get_data()\n",
    "test_data\n",
    "\n"
   ]
  },
  {
   "cell_type": "code",
   "execution_count": 69,
   "id": "6524cd6a",
   "metadata": {},
   "outputs": [],
   "source": [
    "import cmprsk.cmprsk as rsk\n",
    "import cmprsk.utils as utils"
   ]
  },
  {
   "cell_type": "markdown",
   "id": "1d196fcc",
   "metadata": {},
   "source": [
    "Converting categorical variables to `one hot enoded`"
   ]
  },
  {
   "cell_type": "code",
   "execution_count": 70,
   "id": "173b8ddb",
   "metadata": {},
   "outputs": [
    {
     "data": {
      "text/html": [
       "<div>\n",
       "<style scoped>\n",
       "    .dataframe tbody tr th:only-of-type {\n",
       "        vertical-align: middle;\n",
       "    }\n",
       "\n",
       "    .dataframe tbody tr th {\n",
       "        vertical-align: top;\n",
       "    }\n",
       "\n",
       "    .dataframe thead th {\n",
       "        text-align: right;\n",
       "    }\n",
       "</style>\n",
       "<table border=\"1\" class=\"dataframe\">\n",
       "  <thead>\n",
       "    <tr style=\"text-align: right;\">\n",
       "      <th></th>\n",
       "      <th>x2</th>\n",
       "      <th>x3</th>\n",
       "      <th>x1_a</th>\n",
       "      <th>x1_b</th>\n",
       "      <th>x1_c</th>\n",
       "      <th>x4_0</th>\n",
       "      <th>x4_1</th>\n",
       "      <th>x4_2</th>\n",
       "      <th>x4_3</th>\n",
       "    </tr>\n",
       "  </thead>\n",
       "  <tbody>\n",
       "    <tr>\n",
       "      <th>0</th>\n",
       "      <td>0.642785</td>\n",
       "      <td>-1.067620</td>\n",
       "      <td>0</td>\n",
       "      <td>0</td>\n",
       "      <td>1</td>\n",
       "      <td>0</td>\n",
       "      <td>0</td>\n",
       "      <td>1</td>\n",
       "      <td>0</td>\n",
       "    </tr>\n",
       "    <tr>\n",
       "      <th>1</th>\n",
       "      <td>0.102957</td>\n",
       "      <td>-0.142379</td>\n",
       "      <td>1</td>\n",
       "      <td>0</td>\n",
       "      <td>0</td>\n",
       "      <td>0</td>\n",
       "      <td>0</td>\n",
       "      <td>1</td>\n",
       "      <td>0</td>\n",
       "    </tr>\n",
       "    <tr>\n",
       "      <th>2</th>\n",
       "      <td>0.676518</td>\n",
       "      <td>0.120296</td>\n",
       "      <td>0</td>\n",
       "      <td>1</td>\n",
       "      <td>0</td>\n",
       "      <td>0</td>\n",
       "      <td>0</td>\n",
       "      <td>0</td>\n",
       "      <td>0</td>\n",
       "    </tr>\n",
       "    <tr>\n",
       "      <th>3</th>\n",
       "      <td>0.641450</td>\n",
       "      <td>0.514439</td>\n",
       "      <td>1</td>\n",
       "      <td>0</td>\n",
       "      <td>0</td>\n",
       "      <td>0</td>\n",
       "      <td>0</td>\n",
       "      <td>0</td>\n",
       "      <td>1</td>\n",
       "    </tr>\n",
       "    <tr>\n",
       "      <th>4</th>\n",
       "      <td>0.190195</td>\n",
       "      <td>0.711615</td>\n",
       "      <td>0</td>\n",
       "      <td>0</td>\n",
       "      <td>0</td>\n",
       "      <td>0</td>\n",
       "      <td>0</td>\n",
       "      <td>1</td>\n",
       "      <td>0</td>\n",
       "    </tr>\n",
       "    <tr>\n",
       "      <th>...</th>\n",
       "      <td>...</td>\n",
       "      <td>...</td>\n",
       "      <td>...</td>\n",
       "      <td>...</td>\n",
       "      <td>...</td>\n",
       "      <td>...</td>\n",
       "      <td>...</td>\n",
       "      <td>...</td>\n",
       "      <td>...</td>\n",
       "    </tr>\n",
       "    <tr>\n",
       "      <th>195</th>\n",
       "      <td>0.810652</td>\n",
       "      <td>-0.922165</td>\n",
       "      <td>0</td>\n",
       "      <td>0</td>\n",
       "      <td>0</td>\n",
       "      <td>1</td>\n",
       "      <td>0</td>\n",
       "      <td>0</td>\n",
       "      <td>0</td>\n",
       "    </tr>\n",
       "    <tr>\n",
       "      <th>196</th>\n",
       "      <td>1.465283</td>\n",
       "      <td>0.869606</td>\n",
       "      <td>0</td>\n",
       "      <td>0</td>\n",
       "      <td>1</td>\n",
       "      <td>0</td>\n",
       "      <td>1</td>\n",
       "      <td>0</td>\n",
       "      <td>0</td>\n",
       "    </tr>\n",
       "    <tr>\n",
       "      <th>197</th>\n",
       "      <td>2.896172</td>\n",
       "      <td>1.355638</td>\n",
       "      <td>0</td>\n",
       "      <td>0</td>\n",
       "      <td>1</td>\n",
       "      <td>0</td>\n",
       "      <td>0</td>\n",
       "      <td>0</td>\n",
       "      <td>1</td>\n",
       "    </tr>\n",
       "    <tr>\n",
       "      <th>198</th>\n",
       "      <td>1.894772</td>\n",
       "      <td>0.413435</td>\n",
       "      <td>0</td>\n",
       "      <td>0</td>\n",
       "      <td>1</td>\n",
       "      <td>0</td>\n",
       "      <td>0</td>\n",
       "      <td>0</td>\n",
       "      <td>0</td>\n",
       "    </tr>\n",
       "    <tr>\n",
       "      <th>199</th>\n",
       "      <td>0.284152</td>\n",
       "      <td>1.876796</td>\n",
       "      <td>0</td>\n",
       "      <td>0</td>\n",
       "      <td>0</td>\n",
       "      <td>0</td>\n",
       "      <td>1</td>\n",
       "      <td>0</td>\n",
       "      <td>0</td>\n",
       "    </tr>\n",
       "  </tbody>\n",
       "</table>\n",
       "<p>200 rows × 9 columns</p>\n",
       "</div>"
      ],
      "text/plain": [
       "           x2        x3  x1_a  x1_b  x1_c  x4_0  x4_1  x4_2  x4_3\n",
       "0    0.642785 -1.067620     0     0     1     0     0     1     0\n",
       "1    0.102957 -0.142379     1     0     0     0     0     1     0\n",
       "2    0.676518  0.120296     0     1     0     0     0     0     0\n",
       "3    0.641450  0.514439     1     0     0     0     0     0     1\n",
       "4    0.190195  0.711615     0     0     0     0     0     1     0\n",
       "..        ...       ...   ...   ...   ...   ...   ...   ...   ...\n",
       "195  0.810652 -0.922165     0     0     0     1     0     0     0\n",
       "196  1.465283  0.869606     0     0     1     0     1     0     0\n",
       "197  2.896172  1.355638     0     0     1     0     0     0     1\n",
       "198  1.894772  0.413435     0     0     1     0     0     0     0\n",
       "199  0.284152  1.876796     0     0     0     0     1     0     0\n",
       "\n",
       "[200 rows x 9 columns]"
      ]
     },
     "execution_count": 70,
     "metadata": {},
     "output_type": "execute_result"
    }
   ],
   "source": [
    "cov_1 = utils.as_indicators(test_data[['x1', 'x2', 'x3', 'x4']], ['x1', 'x4'], bases=['d', 4])\n",
    "cov_1"
   ]
  },
  {
   "cell_type": "markdown",
   "id": "4a96616a",
   "metadata": {},
   "source": [
    "Fitting the model"
   ]
  },
  {
   "cell_type": "code",
   "execution_count": 71,
   "id": "45f47fe1",
   "metadata": {},
   "outputs": [
    {
     "name": "stderr",
     "output_type": "stream",
     "text": [
      "C:\\Users\\lhott\\Desktop\\cmprsk\\cmprsk\\rpy_utils.py:71: VisibleDeprecationWarning: Creating an ndarray from ragged nested sequences (which is a list-or-tuple of lists-or-tuples-or ndarrays with different lengths or shapes) is deprecated. If you meant to do this, you must specify 'dtype=object' when creating the ndarray.\n",
      "  return dict(zip(r_list.names, map(np.array, r_list)))\n"
     ]
    },
    {
     "data": {
      "text/html": [
       "<div>\n",
       "<style scoped>\n",
       "    .dataframe tbody tr th:only-of-type {\n",
       "        vertical-align: middle;\n",
       "    }\n",
       "\n",
       "    .dataframe tbody tr th {\n",
       "        vertical-align: top;\n",
       "    }\n",
       "\n",
       "    .dataframe thead th {\n",
       "        text-align: right;\n",
       "    }\n",
       "</style>\n",
       "<table border=\"1\" class=\"dataframe\">\n",
       "  <thead>\n",
       "    <tr style=\"text-align: right;\">\n",
       "      <th></th>\n",
       "      <th>coefficients</th>\n",
       "      <th>std</th>\n",
       "      <th>hazard_ratio</th>\n",
       "      <th>hazard_ratio_2.5%</th>\n",
       "      <th>hazard_ratio_97.5%</th>\n",
       "      <th>p_values</th>\n",
       "    </tr>\n",
       "    <tr>\n",
       "      <th>names</th>\n",
       "      <th></th>\n",
       "      <th></th>\n",
       "      <th></th>\n",
       "      <th></th>\n",
       "      <th></th>\n",
       "      <th></th>\n",
       "    </tr>\n",
       "  </thead>\n",
       "  <tbody>\n",
       "    <tr>\n",
       "      <th>x2</th>\n",
       "      <td>-0.168552</td>\n",
       "      <td>0.106977</td>\n",
       "      <td>0.844887</td>\n",
       "      <td>0.685078</td>\n",
       "      <td>1.041976</td>\n",
       "      <td>0.115119</td>\n",
       "    </tr>\n",
       "    <tr>\n",
       "      <th>x3</th>\n",
       "      <td>0.160679</td>\n",
       "      <td>0.120337</td>\n",
       "      <td>1.174308</td>\n",
       "      <td>0.927579</td>\n",
       "      <td>1.486664</td>\n",
       "      <td>0.181797</td>\n",
       "    </tr>\n",
       "    <tr>\n",
       "      <th>x1_a</th>\n",
       "      <td>0.487678</td>\n",
       "      <td>0.340173</td>\n",
       "      <td>1.628531</td>\n",
       "      <td>0.836065</td>\n",
       "      <td>3.172139</td>\n",
       "      <td>0.151682</td>\n",
       "    </tr>\n",
       "    <tr>\n",
       "      <th>x1_b</th>\n",
       "      <td>0.414615</td>\n",
       "      <td>0.354255</td>\n",
       "      <td>1.513787</td>\n",
       "      <td>0.756002</td>\n",
       "      <td>3.031146</td>\n",
       "      <td>0.241846</td>\n",
       "    </tr>\n",
       "    <tr>\n",
       "      <th>x1_c</th>\n",
       "      <td>0.591534</td>\n",
       "      <td>0.328866</td>\n",
       "      <td>1.806757</td>\n",
       "      <td>0.948350</td>\n",
       "      <td>3.442159</td>\n",
       "      <td>0.072065</td>\n",
       "    </tr>\n",
       "    <tr>\n",
       "      <th>x4_0</th>\n",
       "      <td>-0.099541</td>\n",
       "      <td>0.370914</td>\n",
       "      <td>0.905253</td>\n",
       "      <td>0.437570</td>\n",
       "      <td>1.872804</td>\n",
       "      <td>0.788418</td>\n",
       "    </tr>\n",
       "    <tr>\n",
       "      <th>x4_1</th>\n",
       "      <td>-0.020938</td>\n",
       "      <td>0.333723</td>\n",
       "      <td>0.979279</td>\n",
       "      <td>0.509145</td>\n",
       "      <td>1.883527</td>\n",
       "      <td>0.949972</td>\n",
       "    </tr>\n",
       "    <tr>\n",
       "      <th>x4_2</th>\n",
       "      <td>-0.251115</td>\n",
       "      <td>0.379710</td>\n",
       "      <td>0.777933</td>\n",
       "      <td>0.369600</td>\n",
       "      <td>1.637389</td>\n",
       "      <td>0.508398</td>\n",
       "    </tr>\n",
       "    <tr>\n",
       "      <th>x4_3</th>\n",
       "      <td>0.038192</td>\n",
       "      <td>0.353991</td>\n",
       "      <td>1.038931</td>\n",
       "      <td>0.519121</td>\n",
       "      <td>2.079240</td>\n",
       "      <td>0.914082</td>\n",
       "    </tr>\n",
       "  </tbody>\n",
       "</table>\n",
       "</div>"
      ],
      "text/plain": [
       "       coefficients       std  hazard_ratio  hazard_ratio_2.5%  \\\n",
       "names                                                            \n",
       "x2        -0.168552  0.106977      0.844887           0.685078   \n",
       "x3         0.160679  0.120337      1.174308           0.927579   \n",
       "x1_a       0.487678  0.340173      1.628531           0.836065   \n",
       "x1_b       0.414615  0.354255      1.513787           0.756002   \n",
       "x1_c       0.591534  0.328866      1.806757           0.948350   \n",
       "x4_0      -0.099541  0.370914      0.905253           0.437570   \n",
       "x4_1      -0.020938  0.333723      0.979279           0.509145   \n",
       "x4_2      -0.251115  0.379710      0.777933           0.369600   \n",
       "x4_3       0.038192  0.353991      1.038931           0.519121   \n",
       "\n",
       "       hazard_ratio_97.5%  p_values  \n",
       "names                                \n",
       "x2               1.041976  0.115119  \n",
       "x3               1.486664  0.181797  \n",
       "x1_a             3.172139  0.151682  \n",
       "x1_b             3.031146  0.241846  \n",
       "x1_c             3.442159  0.072065  \n",
       "x4_0             1.872804  0.788418  \n",
       "x4_1             1.883527  0.949972  \n",
       "x4_2             1.637389  0.508398  \n",
       "x4_3             2.079240  0.914082  "
      ]
     },
     "execution_count": 71,
     "metadata": {},
     "output_type": "execute_result"
    }
   ],
   "source": [
    "crr_result = rsk.crr(test_data['ftime'], test_data['fstatus'], cov_1)\n",
    "crr_result.summary"
   ]
  },
  {
   "cell_type": "markdown",
   "id": "6044954e",
   "metadata": {},
   "source": [
    "Access other attributs of interest:"
   ]
  },
  {
   "cell_type": "code",
   "execution_count": 72,
   "id": "8b595c6b",
   "metadata": {},
   "outputs": [
    {
     "data": {
      "text/plain": [
       "array([-0.16855227,  0.16067881,  0.48767841,  0.41461457,  0.59153363,\n",
       "       -0.09954065, -0.02093822, -0.25111537,  0.03819242])"
      ]
     },
     "execution_count": 72,
     "metadata": {},
     "output_type": "execute_result"
    }
   ],
   "source": [
    "crr_result.coefficients"
   ]
  },
  {
   "cell_type": "code",
   "execution_count": 73,
   "id": "7505be08",
   "metadata": {},
   "outputs": [
    {
     "data": {
      "text/plain": [
       "(array([0.8448871 , 1.17430773, 1.62853105, 1.51378716, 1.8067572 ,\n",
       "        0.90525315, 0.97927947, 0.77793261, 1.03893113]),\n",
       " array([[0.68507752, 1.04197581],\n",
       "        [0.92757936, 1.48666379],\n",
       "        [0.83606462, 3.17213923],\n",
       "        [0.75600176, 3.03114583],\n",
       "        [0.94835013, 3.44215862],\n",
       "        [0.43757025, 1.87280385],\n",
       "        [0.50914505, 1.88352665],\n",
       "        [0.36960019, 1.63738862],\n",
       "        [0.51912138, 2.07923993]]))"
      ]
     },
     "execution_count": 73,
     "metadata": {},
     "output_type": "execute_result"
    }
   ],
   "source": [
    "crr_result.hazard_ratio()"
   ]
  },
  {
   "cell_type": "code",
   "execution_count": 74,
   "id": "f66386f4",
   "metadata": {},
   "outputs": [
    {
     "data": {
      "text/plain": [
       "array([0.11511939, 0.18179688, 0.15168166, 0.24184566, 0.07206485,\n",
       "       0.78841751, 0.94997243, 0.5083978 , 0.91408224])"
      ]
     },
     "execution_count": 74,
     "metadata": {},
     "output_type": "execute_result"
    }
   ],
   "source": [
    "crr_result.p_values"
   ]
  },
  {
   "cell_type": "markdown",
   "id": "e5636eab",
   "metadata": {},
   "source": [
    "# Usage of `cuminc` and plotting"
   ]
  },
  {
   "cell_type": "markdown",
   "id": "c1e7134c",
   "metadata": {},
   "source": [
    "## Plot cumulative incidence  \n",
    "\n",
    "This corresponds to `plot.cuminc` - Create Labeled Cumulative Incidence Plots"
   ]
  },
  {
   "cell_type": "code",
   "execution_count": 75,
   "id": "20ba8bd9",
   "metadata": {},
   "outputs": [],
   "source": [
    "import random\n",
    "np.random.seed(2)\n",
    "random.seed(2)\n",
    "N = 200\n",
    "ftime = np.random.exponential(size=N)\n",
    "group = np.array(random.choices(['a', 'b', 'c'], k=N), dtype=str)\n",
    "fstatus = pd.Series(np.random.randint(0, 3, N))\n",
    "\n",
    "cuminc_res = rsk.cuminc(ftime, fstatus, group=group)"
   ]
  },
  {
   "cell_type": "code",
   "execution_count": 76,
   "id": "896ae552",
   "metadata": {},
   "outputs": [
    {
     "data": {
      "image/png": "[encoded data removed]",
      "text/plain": [
       "<Figure size 432x288 with 1 Axes>"
      ]
     },
     "metadata": {
      "needs_background": "light"
     },
     "output_type": "display_data"
    }
   ],
   "source": [
    "import matplotlib.pyplot as plt\n",
    "\n",
    "\n",
    "_, ax = plt.subplots()\n",
    "for name, group in cuminc_res.groups.items():\n",
    "    ax.plot(group.time, group.est, label=name)\n",
    "    ax.fill_between(group.time, group.low_ci, group.high_ci, alpha=0.1)\n",
    "    \n",
    "ax.set_ylim([0, 1])\n",
    "ax.legend()\n",
    "ax.set_title('my awesom figure')\n",
    "ax.set_xlabel('time')\n",
    "ax.set_ylabel('probability')\n",
    "plt.show()"
   ]
  },
  {
   "cell_type": "markdown",
   "id": "d5840caf",
   "metadata": {},
   "source": [
    "access additional attributes:"
   ]
  },
  {
   "cell_type": "code",
   "execution_count": 77,
   "id": "a743b0b5",
   "metadata": {},
   "outputs": [
    {
     "data": {
      "text/html": [
       "<div>\n",
       "<style scoped>\n",
       "    .dataframe tbody tr th:only-of-type {\n",
       "        vertical-align: middle;\n",
       "    }\n",
       "\n",
       "    .dataframe tbody tr th {\n",
       "        vertical-align: top;\n",
       "    }\n",
       "\n",
       "    .dataframe thead th {\n",
       "        text-align: right;\n",
       "    }\n",
       "</style>\n",
       "<table border=\"1\" class=\"dataframe\">\n",
       "  <thead>\n",
       "    <tr style=\"text-align: right;\">\n",
       "      <th></th>\n",
       "      <th>stat</th>\n",
       "      <th>pv</th>\n",
       "      <th>df</th>\n",
       "    </tr>\n",
       "  </thead>\n",
       "  <tbody>\n",
       "    <tr>\n",
       "      <th>0</th>\n",
       "      <td>1.304507</td>\n",
       "      <td>0.520871</td>\n",
       "      <td>2.0</td>\n",
       "    </tr>\n",
       "    <tr>\n",
       "      <th>1</th>\n",
       "      <td>0.961734</td>\n",
       "      <td>0.618247</td>\n",
       "      <td>2.0</td>\n",
       "    </tr>\n",
       "  </tbody>\n",
       "</table>\n",
       "</div>"
      ],
      "text/plain": [
       "       stat        pv   df\n",
       "0  1.304507  0.520871  2.0\n",
       "1  0.961734  0.618247  2.0"
      ]
     },
     "execution_count": 77,
     "metadata": {},
     "output_type": "execute_result"
    }
   ],
   "source": [
    "cuminc_res.stats"
   ]
  },
  {
   "cell_type": "code",
   "execution_count": 78,
   "id": "f5eefa1f",
   "metadata": {},
   "outputs": [
    {
     "name": "stdout",
     "output_type": "stream",
     "text": [
      "Tests:\n",
      "       stat        pv df\n",
      "1 1.3045074 0.5208706  2\n",
      "2 0.9617335 0.6182473  2\n",
      "Estimates and Variances:\n",
      "$est\n",
      "            1         2         3         4         5\n",
      "a 1 0.2490592 0.3811472 0.4207737        NA        NA\n",
      "b 1 0.2424685 0.3089696 0.3089696 0.3089696 0.3659704\n",
      "c 1 0.2786139 0.3076255 0.3076255 0.3772533        NA\n",
      "a 2 0.2980674 0.4603470 0.5395999        NA        NA\n",
      "b 2 0.3859081 0.5136944 0.5390281 0.5770287 0.5770287\n",
      "c 2 0.1989871 0.4892935 0.5531190 0.5531190        NA\n",
      "\n",
      "$var\n",
      "              1           2           3           4           5\n",
      "a 1 0.003303929 0.005899165 0.007347843          NA          NA\n",
      "b 1 0.003556921 0.004360273 0.004360273 0.004360273 0.007603968\n",
      "c 1 0.003730227 0.004340781 0.004340781 0.006116843          NA\n",
      "a 2 0.003929983 0.006717567 0.007385561          NA          NA\n",
      "b 2 0.004555443 0.005159481 0.005286513 0.005927992 0.005927992\n",
      "c 2 0.003044332 0.006140341 0.006340917 0.006340917          NA\n",
      "\n",
      "\n"
     ]
    }
   ],
   "source": [
    "cuminc_res.print"
   ]
  },
  {
   "cell_type": "markdown",
   "id": "20211fb0-1a3a-4d3a-af72-f25985c47e75",
   "metadata": {},
   "source": [
    "## Plot cumulative incidence with censored data\n",
    "\n",
    "Let's dissect one example with only one group"
   ]
  },
  {
   "cell_type": "code",
   "execution_count": 79,
   "id": "b13679ed-436b-4844-bfb2-0b76196abc04",
   "metadata": {},
   "outputs": [],
   "source": [
    "import random\n",
    "np.random.seed(6)\n",
    "random.seed(6)\n",
    "N = 5\n",
    "ftime = np.random.exponential(size=N)\n",
    "group = None  # cf. docstring of rsk.cuminc\n",
    "fstatus = pd.Series(np.random.randint(0, 3, N))\n",
    "\n",
    "cuminc_res = rsk.cuminc(ftime, fstatus, group=group, cencode=2)"
   ]
  },
  {
   "cell_type": "code",
   "execution_count": 80,
   "id": "73b860a4-d1ba-4114-8fd5-adadf9e2922e",
   "metadata": {},
   "outputs": [
    {
     "data": {
      "text/plain": [
       "array([2.2336203 , 0.40343687, 1.72165031, 0.04259088, 0.11390433])"
      ]
     },
     "execution_count": 80,
     "metadata": {},
     "output_type": "execute_result"
    }
   ],
   "source": [
    "ftime"
   ]
  },
  {
   "cell_type": "code",
   "execution_count": 81,
   "id": "1cfc842f-ebff-4f8e-b9e5-276e18dc7e49",
   "metadata": {},
   "outputs": [
    {
     "data": {
      "text/plain": [
       "0    1\n",
       "1    1\n",
       "2    1\n",
       "3    1\n",
       "4    2\n",
       "dtype: int32"
      ]
     },
     "execution_count": 81,
     "metadata": {},
     "output_type": "execute_result"
    }
   ],
   "source": [
    "fstatus"
   ]
  },
  {
   "cell_type": "markdown",
   "id": "ea9d8e71-6e4e-462c-ac4e-85d9392336da",
   "metadata": {},
   "source": [
    "Events are all $1$ except one censor at time $t = 0.11390433$\n",
    "\n",
    "Therefore, first step of the cumulative incidence curve (1) is going to be $1/5 = 0.2$ (`ftime[4]` and `fstatus[4]`). But then, because `ftime[5]` corresponds to `fstatus[5] = 2 = censored`, the followings steps are going to be $0.8/3 = 0.2667$."
   ]
  },
  {
   "cell_type": "code",
   "execution_count": 83,
   "id": "0141bc3e-b1af-4797-b27f-a86c428ecbea",
   "metadata": {},
   "outputs": [
    {
     "name": "stdout",
     "output_type": "stream",
     "text": [
      "[0.         0.04259088 0.04259088 0.40343687 0.40343687 1.72165031\n",
      " 1.72165031 2.2336203  2.2336203  2.2336203 ]\n",
      "[0.         0.         0.2        0.2        0.46666667 0.46666667\n",
      " 0.73333333 0.73333333 1.         1.        ]\n"
     ]
    },
    {
     "data": {
      "image/png": "[encoded data removed]",
      "text/plain": [
       "<Figure size 432x288 with 1 Axes>"
      ]
     },
     "metadata": {
      "needs_background": "light"
     },
     "output_type": "display_data"
    }
   ],
   "source": [
    "import matplotlib.pyplot as plt\n",
    "\n",
    "\n",
    "_, ax = plt.subplots()\n",
    "for name, group in cuminc_res.groups.items():\n",
    "    ax.plot(group.time, group.est, label=name)\n",
    "    print(group.time)  # we print group.time\n",
    "    print(group.est)  # and group.est\n",
    "    # to make sure the steps are the one we anticipated\n",
    "    ax.fill_between(group.time, group.low_ci, group.high_ci, alpha=0.1)\n",
    "    \n",
    "ax.set_ylim([0, 1])\n",
    "ax.legend()\n",
    "ax.set_title('my awesom figure 2')\n",
    "ax.set_xlabel('time')\n",
    "ax.set_ylabel('probability')\n",
    "plt.show()"
   ]
  },
  {
   "cell_type": "markdown",
   "id": "023d4ea0-7661-4ed0-88b5-e8937a01a581",
   "metadata": {},
   "source": []
  },
  {
   "cell_type": "code",
   "execution_count": null,
   "id": "6cf9b5cb-c9ba-4938-8a74-0a7f8da408f7",
   "metadata": {},
   "outputs": [],
   "source": []
  }
 ],
 "metadata": {
  "kernelspec": {
   "display_name": "statsmodels",
   "language": "python",
   "name": "statsmodels"
  },
  "language_info": {
   "codemirror_mode": {
    "name": "ipython",
    "version": 3
   },
   "file_extension": ".py",
   "mimetype": "text/x-python",
   "name": "python",
   "nbconvert_exporter": "python",
   "pygments_lexer": "ipython3",
   "version": "3.9.10"
  }
 },
 "nbformat": 4,
 "nbformat_minor": 5
}
